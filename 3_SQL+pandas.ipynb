{
 "cells": [
  {
   "cell_type": "code",
   "execution_count": 1,
   "metadata": {},
   "outputs": [],
   "source": [
    "#A tisztított adatok feltöltése PostgreSQL adatbázisba az sqlalchemy segítségével.\n",
    "from sqlalchemy import create_engine, text\n",
    "import pandas as pd\n",
    "\n",
    "import os\n",
    "from dotenv import find_dotenv, load_dotenv"
   ]
  },
  {
   "cell_type": "code",
   "execution_count": 2,
   "metadata": {},
   "outputs": [],
   "source": [
    "dotenv_path = find_dotenv() \n",
    "\n",
    "load_dotenv(dotenv_path)\n",
    "\n",
    "#API_KEY = os.getenv(\"API_KEY\")\n",
    "USER = os.getenv(\"USER\")\n",
    "PASSWORD = os.getenv(\"PASSWORD\")\n",
    "LOCALHOST = os.getenv(\"LOCALHOST\")\n",
    "#PORT = os.getenv(\"PORT\")\n",
    "DATABASE = os.getenv(\"DATABASE\")\n",
    "DRIVER = os.getenv(\"DRIVER\")"
   ]
  },
  {
   "cell_type": "code",
   "execution_count": null,
   "metadata": {},
   "outputs": [
    {
     "name": "stdout",
     "output_type": "stream",
     "text": [
      "Kapcsolat létrehozva az adatbázissal!\n",
      "('Microsoft SQL Server 2019 (RTM) - 15.0.2000.5 (X64) \\n\\tSep 24 2019 13:48:23 \\n\\tCopyright (C) 2019 Microsoft Corporation\\n\\tEnterprise Evaluation Edition (64-bit) on Windows 10 Pro 10.0 <X64> (Build 19045: ) (Hypervisor)\\n',)\n"
     ]
    }
   ],
   "source": [
    "engine = create_engine(f\"mssql+pyodbc://{USER}:{PASSWORD}@{LOCALHOST}/{DATABASE}?driver={DRIVER}\" ) # .env\n",
    "\n",
    "print(\"Kapcsolat létrehozva az adatbázissal!\")\n",
    "\n",
    "# Kapcsolat tesztelése\n",
    "with engine.connect() as connection:\n",
    "    result = connection.execute(text(\"SELECT @@VERSION\"))\n",
    "    for row in result:\n",
    "        print(row)"
   ]
  },
  {
   "cell_type": "code",
   "execution_count": 4,
   "metadata": {},
   "outputs": [
    {
     "name": "stdout",
     "output_type": "stream",
     "text": [
      "Adatok feltöltve az adatbázisba!\n"
     ]
    }
   ],
   "source": [
    "# Adatok feltöltése SSMS-be\n",
    "df = pd.read_csv(r'C:\\Users\\Évi\\OneDrive\\Asztali gép\\Portfoliio project\\Data Science Folder Template (jelszólevédés)\\project-name\\data\\raw\\Clean_Dataset.csv', delimiter = ',')\n",
    "#df = pd.read_csv(r'C:\\Users\\Évi\\source\\repos\\Data Science Folder Template\\project-name\\data\\continuous_factory_process.csv', encoding='utf-8')\n",
    "\n",
    "tablename = 'flight_clean_table'\n",
    "\n",
    "df.to_sql(tablename, engine, if_exists='replace', index=True)\n",
    "print(\"Adatok feltöltve az adatbázisba!\")"
   ]
  },
  {
   "cell_type": "code",
   "execution_count": null,
   "metadata": {},
   "outputs": [
    {
     "data": {
      "text/html": [
       "<div>\n",
       "<style scoped>\n",
       "    .dataframe tbody tr th:only-of-type {\n",
       "        vertical-align: middle;\n",
       "    }\n",
       "\n",
       "    .dataframe tbody tr th {\n",
       "        vertical-align: top;\n",
       "    }\n",
       "\n",
       "    .dataframe thead th {\n",
       "        text-align: right;\n",
       "    }\n",
       "</style>\n",
       "<table border=\"1\" class=\"dataframe\">\n",
       "  <thead>\n",
       "    <tr style=\"text-align: right;\">\n",
       "      <th></th>\n",
       "      <th>index</th>\n",
       "      <th>Unnamed: 0</th>\n",
       "      <th>airline</th>\n",
       "      <th>flight</th>\n",
       "      <th>source_city</th>\n",
       "      <th>departure_time</th>\n",
       "      <th>stops</th>\n",
       "      <th>arrival_time</th>\n",
       "      <th>destination_city</th>\n",
       "      <th>class</th>\n",
       "      <th>duration</th>\n",
       "      <th>days_left</th>\n",
       "      <th>price</th>\n",
       "    </tr>\n",
       "  </thead>\n",
       "  <tbody>\n",
       "    <tr>\n",
       "      <th>0</th>\n",
       "      <td>0</td>\n",
       "      <td>0</td>\n",
       "      <td>SpiceJet</td>\n",
       "      <td>SG-8709</td>\n",
       "      <td>Delhi</td>\n",
       "      <td>Evening</td>\n",
       "      <td>zero</td>\n",
       "      <td>Night</td>\n",
       "      <td>Mumbai</td>\n",
       "      <td>Economy</td>\n",
       "      <td>2.17</td>\n",
       "      <td>1</td>\n",
       "      <td>5953</td>\n",
       "    </tr>\n",
       "    <tr>\n",
       "      <th>1</th>\n",
       "      <td>1</td>\n",
       "      <td>1</td>\n",
       "      <td>SpiceJet</td>\n",
       "      <td>SG-8157</td>\n",
       "      <td>Delhi</td>\n",
       "      <td>Early_Morning</td>\n",
       "      <td>zero</td>\n",
       "      <td>Morning</td>\n",
       "      <td>Mumbai</td>\n",
       "      <td>Economy</td>\n",
       "      <td>2.33</td>\n",
       "      <td>1</td>\n",
       "      <td>5953</td>\n",
       "    </tr>\n",
       "    <tr>\n",
       "      <th>2</th>\n",
       "      <td>2</td>\n",
       "      <td>2</td>\n",
       "      <td>AirAsia</td>\n",
       "      <td>I5-764</td>\n",
       "      <td>Delhi</td>\n",
       "      <td>Early_Morning</td>\n",
       "      <td>zero</td>\n",
       "      <td>Early_Morning</td>\n",
       "      <td>Mumbai</td>\n",
       "      <td>Economy</td>\n",
       "      <td>2.17</td>\n",
       "      <td>1</td>\n",
       "      <td>5956</td>\n",
       "    </tr>\n",
       "    <tr>\n",
       "      <th>3</th>\n",
       "      <td>3</td>\n",
       "      <td>3</td>\n",
       "      <td>Vistara</td>\n",
       "      <td>UK-995</td>\n",
       "      <td>Delhi</td>\n",
       "      <td>Morning</td>\n",
       "      <td>zero</td>\n",
       "      <td>Afternoon</td>\n",
       "      <td>Mumbai</td>\n",
       "      <td>Economy</td>\n",
       "      <td>2.25</td>\n",
       "      <td>1</td>\n",
       "      <td>5955</td>\n",
       "    </tr>\n",
       "    <tr>\n",
       "      <th>4</th>\n",
       "      <td>4</td>\n",
       "      <td>4</td>\n",
       "      <td>Vistara</td>\n",
       "      <td>UK-963</td>\n",
       "      <td>Delhi</td>\n",
       "      <td>Morning</td>\n",
       "      <td>zero</td>\n",
       "      <td>Morning</td>\n",
       "      <td>Mumbai</td>\n",
       "      <td>Economy</td>\n",
       "      <td>2.33</td>\n",
       "      <td>1</td>\n",
       "      <td>5955</td>\n",
       "    </tr>\n",
       "  </tbody>\n",
       "</table>\n",
       "</div>"
      ],
      "text/plain": [
       "   index  Unnamed: 0   airline   flight source_city departure_time stops  \\\n",
       "0      0           0  SpiceJet  SG-8709       Delhi        Evening  zero   \n",
       "1      1           1  SpiceJet  SG-8157       Delhi  Early_Morning  zero   \n",
       "2      2           2   AirAsia   I5-764       Delhi  Early_Morning  zero   \n",
       "3      3           3   Vistara   UK-995       Delhi        Morning  zero   \n",
       "4      4           4   Vistara   UK-963       Delhi        Morning  zero   \n",
       "\n",
       "    arrival_time destination_city    class  duration  days_left  price  \n",
       "0          Night           Mumbai  Economy      2.17          1   5953  \n",
       "1        Morning           Mumbai  Economy      2.33          1   5953  \n",
       "2  Early_Morning           Mumbai  Economy      2.17          1   5956  \n",
       "3      Afternoon           Mumbai  Economy      2.25          1   5955  \n",
       "4        Morning           Mumbai  Economy      2.33          1   5955  "
      ]
     },
     "execution_count": 5,
     "metadata": {},
     "output_type": "execute_result"
    }
   ],
   "source": [
    "tablename = 'flight_clean_table' \n",
    "sql_df = pd.read_sql(tablename, engine )\n",
    "sql_df.head()"
   ]
  },
  {
   "cell_type": "code",
   "execution_count": null,
   "metadata": {},
   "outputs": [
    {
     "name": "stdout",
     "output_type": "stream",
     "text": [
      "   index  Unnamed: 0  airline  flight source_city departure_time stops  \\\n",
      "0      3           3  Vistara  UK-995       Delhi        Morning  zero   \n",
      "1      4           4  Vistara  UK-963       Delhi        Morning  zero   \n",
      "2      5           5  Vistara  UK-945       Delhi        Morning  zero   \n",
      "3      6           6  Vistara  UK-927       Delhi        Morning  zero   \n",
      "4      7           7  Vistara  UK-951       Delhi      Afternoon  zero   \n",
      "\n",
      "  arrival_time destination_city    class  duration  days_left  price  \n",
      "0    Afternoon           Mumbai  Economy      2.25          1   5955  \n",
      "1      Morning           Mumbai  Economy      2.33          1   5955  \n",
      "2    Afternoon           Mumbai  Economy      2.33          1   5955  \n",
      "3      Morning           Mumbai  Economy      2.08          1   6060  \n",
      "4      Evening           Mumbai  Economy      2.17          1   6060  \n"
     ]
    }
   ],
   "source": [
    "# Feltöltött táblából lekérdezés\n",
    "df_query = pd.read_sql_query(\"SELECT * FROM flight_clean_table WHERE airline = 'Vistara' \" , engine)\n",
    "print(df_query.head())"
   ]
  },
  {
   "cell_type": "code",
   "execution_count": 5,
   "metadata": {},
   "outputs": [
    {
     "name": "stdout",
     "output_type": "stream",
     "text": [
      "   SZALLAS_ID       SZALLAS_NEV              HELY  CSILLAGOK_SZAMA      TIPUS  \\\n",
      "0           1          Sába-Ház       Balaton-dél                0  vendégház   \n",
      "1           2       Családi Ház       Balaton-dél                0  vendégház   \n",
      "2           3  Fortuna Apartman  Hajdúbihar megye                0   Apartman   \n",
      "3           4    Fortuna panzió          Budapest                3     panzió   \n",
      "4           5    Fortuna Panzió       Békés megye                3     panzió   \n",
      "\n",
      "  ROGZITETTE    ROGZ_IDO                                          CIM  \n",
      "0       Béla  2016-02-28    8630 Balatonboglár, Radnóti Miklós utca 8  \n",
      "1       Béla  2016-03-02    8630 Balatonboglár, József Attila utca 25  \n",
      "2       Sára  2016-03-06     4200 Hajdúszoboszló, Wesselényi utca 56.  \n",
      "3       Béla  2016-03-07           1019 Budapest XIV. Cinkotai út 86.  \n",
      "4       Sára  2016-03-08  5900 Orosháza, Gyopárosfürdő Tópart utca 3.  \n",
      "   SZOBA_ID SZOBA_SZAMA  FEROHELY  POTAGY KLIMAS  SZALLAS_FK\n",
      "0         1           1         3       0      n           1\n",
      "1         2           2         3       1      i           1\n",
      "2         3           3         3       1      i           1\n",
      "3         4           4         2       1      i           1\n",
      "4         5           5         2       0      i           1\n",
      "  USERNEV                NEV                 EMAIL  \\\n",
      "0   adam1          Kiss Ádám     ádám.kiss@mail.hu   \n",
      "1   adam3       Barkóci Ádám       adam3@gmail.com   \n",
      "2   adam4       Bieniek Ádám  ádám.bieniek@mail.hu   \n",
      "3   agnes      Lengyel Ágnes       agnes@gmail.com   \n",
      "4  agnes3  Hartyánszky Ágnes      agnes3@gmail.com   \n",
      "\n",
      "                                 SZAML_CIM    SZUL_DAT  \n",
      "0                5630 Békés Szolnoki út 8.  1991-12-28  \n",
      "1         3910 Tokaj Dózsa György utca 37.  1970-06-07  \n",
      "2     8630 Balatonboglár Juhászföldi út 1.  1976-08-01  \n",
      "3  5200 Törökszentmiklós Deák Ferenc út 5.  1979-12-10  \n",
      "4              6430 Bácsalmás Posta köz 2.  1967-04-11  \n",
      "   FOGLALAS_PK   UGYFEL_FK  SZOBA_FK      METTOL      MEDDIG  FELNOTT_SZAM  \\\n",
      "0          558     NANDORF        87  2016-04-06  2016-04-10             2   \n",
      "1          559       ARONK       131  2016-04-06  2016-04-08             2   \n",
      "2          560  SEBASTIANF         6  2016-04-06  2016-04-12             2   \n",
      "3          561     laszlo2        42  2016-04-06  2016-04-10             2   \n",
      "4          562      PETERB         7  2016-04-06  2016-04-10             1   \n",
      "\n",
      "   GYERMEK_SZAM  \n",
      "0             1  \n",
      "1             0  \n",
      "2             0  \n",
      "3             0  \n",
      "4             0  \n"
     ]
    }
   ],
   "source": [
    "# SSMS adatbázisból tábladatok lekérése (SQL-lekérdezések futtatása pandasban)\n",
    "\n",
    "tablenames = ['Szallashely', 'Szoba', 'Vendeg', 'Foglalas' ]\n",
    "for tablename in tablenames:\n",
    "    sql_df = pd.read_sql(f\"SELECT * FROM {tablename}\", engine)  # Itt egyesével kérdezzük le a táblákat\n",
    "    print(sql_df.head())"
   ]
  },
  {
   "cell_type": "code",
   "execution_count": 6,
   "metadata": {},
   "outputs": [
    {
     "name": "stdout",
     "output_type": "stream",
     "text": [
      "             Vendég  Foglalások száma\n",
      "0       Berta Dávid                 1\n",
      "1    Bodor Szabolcs                 1\n",
      "2      Dániel Tibor                 1\n",
      "3     Farkas László                 1\n",
      "4       Nagy András                 1\n",
      "..              ...               ...\n",
      "191    Barna Zoltán                12\n",
      "192     Farkas Sára                12\n",
      "193  Komjáti András                13\n",
      "194    Kelemen Áron                13\n",
      "195       Végösszeg              1027\n",
      "\n",
      "[196 rows x 2 columns]\n"
     ]
    }
   ],
   "source": [
    "# 01.Készítsünk listát arról, hogy melyik vendég hányszor foglalt szállást összesen. \n",
    "# a. A lista tartalmazza a végösszeget is. \n",
    "# b. A listát rendezzük a rendelések száma szerint növekvő sorrendbe!\n",
    "\n",
    "df_query = pd.read_sql_query('''select iif(Grouping_ID(vendeg.nev)=1,'Végösszeg', cast(vendeg.nev as nvarchar(20))) as 'Vendég', \n",
    "count(Foglalas.FOGLALAS_PK) as 'Foglalások száma' \n",
    "from Vendeg join Foglalas on Vendeg.USERNEV = Foglalas.UGYFEL_FK\n",
    "group by rollup(vendeg.nev) order by 'Foglalások száma';''' , engine)\n",
    "print(df_query)"
   ]
  },
  {
   "cell_type": "code",
   "execution_count": 7,
   "metadata": {},
   "outputs": [
    {
     "name": "stdout",
     "output_type": "stream",
     "text": [
      "                 nev  FOGLALAS_PK  Foglalás hossza  \\\n",
      "0       Ambrus Dávid          653                7   \n",
      "1       Ambrus Dávid          938                1   \n",
      "2       Ambrus Dávid          994                7   \n",
      "3       Ambrus Dávid          681                3   \n",
      "4       Ambrus Dávid          757                7   \n",
      "...              ...          ...              ...   \n",
      "1022  Zatykó Katalin          665                7   \n",
      "1023  Zatykó Katalin          723                7   \n",
      "1024  Zatykó Katalin          751                4   \n",
      "1025  Zatykó Katalin         1192                2   \n",
      "1026  Zatykó Katalin         1221                2   \n",
      "\n",
      "      Ügyfél legrövidebb foglalása  Ügyfél leghosszabb foglalása  \n",
      "0                                1                             7  \n",
      "1                                1                             7  \n",
      "2                                1                             7  \n",
      "3                                1                             7  \n",
      "4                                1                             7  \n",
      "...                            ...                           ...  \n",
      "1022                             2                             7  \n",
      "1023                             2                             7  \n",
      "1024                             2                             7  \n",
      "1025                             2                             7  \n",
      "1026                             2                             7  \n",
      "\n",
      "[1027 rows x 5 columns]\n"
     ]
    }
   ],
   "source": [
    "# 02 Készítsünk lekérdezést, amely a foglalást leadott vendégek adatait, a foglalások hosszát, továbbá az adott ügyfél legrövidebb, \n",
    "# illetve leghosszabb foglalásának hosszát jeleníti meg!\n",
    "\n",
    "df_query = pd.read_sql_query('''select vendeg.nev, Foglalas.FOGLALAS_PK ,DATEDIFF(DAY, foglalas.mettol, foglalas.meddig) AS 'Foglalás hossza',\n",
    "\tmin(datediff(day, foglalas.mettol, foglalas.meddig)) over(partition by foglalas.ugyfel_fk) as 'Ügyfél legrövidebb foglalása',\n",
    "\tmax(datediff(day, foglalas.mettol, foglalas.meddig)) over(partition by foglalas.ugyfel_fk) as 'Ügyfél leghosszabb foglalása' \n",
    "\tfrom foglalas JOIN vendeg ON foglalas.ugyfel_fk = vendeg.usernev\n",
    "\tORDER BY vendeg.nev, foglalas.mettol;''' , engine)\n",
    "print(df_query)"
   ]
  },
  {
   "cell_type": "code",
   "execution_count": 8,
   "metadata": {},
   "outputs": [
    {
     "name": "stdout",
     "output_type": "stream",
     "text": [
      "      ugyfel_fk                nev      mettol      meddig  FoglalásHányFőre  \\\n",
      "0         adam1          Kiss Ádám  2016-08-20  2016-08-24                 1   \n",
      "1         adam3       Barkóci Ádám  2017-02-06  2017-02-10                 1   \n",
      "2         agnes      Lengyel Ágnes  2016-05-25  2016-05-30                 1   \n",
      "3        agnes3  Hartyánszky Ágnes  2016-08-04  2016-08-10                 1   \n",
      "4        AGNESH      Horváth Ágnes  2016-06-23  2016-06-26                 1   \n",
      "...         ...                ...         ...         ...               ...   \n",
      "1022  sebestyen      Rab Sebestyén  2016-10-26  2016-11-01                 5   \n",
      "1023   szilvia1       Tari Szilvia  2016-12-25  2016-12-29                 5   \n",
      "1024    tihamer       Kazy Tihamér  2016-06-03  2016-06-08                 5   \n",
      "1025      tunde      Turcsik Tünde  2017-01-03  2017-01-06                 5   \n",
      "1026    zoltan4       Barna Zoltán  2016-10-21  2016-10-24                 5   \n",
      "\n",
      "      Előző Foglalás Hány főre  \n",
      "0                            0  \n",
      "1                            2  \n",
      "2                            3  \n",
      "3                            0  \n",
      "4                            4  \n",
      "...                        ...  \n",
      "1022                         4  \n",
      "1023                         2  \n",
      "1024                         1  \n",
      "1025                         3  \n",
      "1026                         3  \n",
      "\n",
      "[1027 rows x 6 columns]\n"
     ]
    }
   ],
   "source": [
    "# 03. Készítsük listát, amely megjeleníti az ügyfelek azonosítóját, nevét és a foglalásainak kezdő- és befejező dátumát, \n",
    "# valamint azt, hogy a foglalás összesen hány főre történt! \n",
    "# a. Egy új oszlopban jelenítsük meg azt is, hogy az ügyfél előző foglalása hány főre történt!\n",
    "\n",
    "df_query = pd.read_sql_query('''select f.ugyfel_fk, v.nev, f.mettol, f.meddig,\n",
    "\t(f.felnott_szam + f.gyermek_szam) as 'FoglalásHányFőre' , \t\n",
    "\tlag(f.felnott_szam + f.gyermek_szam,1,0) over(partition by f.ugyfel_fk order by f.foglalas_pk) 'Előző Foglalás Hány főre'\n",
    "\tfrom vendeg v join foglalas f on v.usernev = f.ugyfel_fk\n",
    "\torder by 'FoglalásHányFőre';''' , engine)\n",
    "print(df_query)"
   ]
  },
  {
   "cell_type": "code",
   "execution_count": 9,
   "metadata": {},
   "outputs": [
    {
     "name": "stdout",
     "output_type": "stream",
     "text": [
      "             szallas_nev  csillagok_Szama    Év  Foglalások száma\n",
      "0            Családi Ház                0  2016                13\n",
      "1       Fortuna Apartman                0  2016                35\n",
      "2    Partiszél Vendégház                0  2016                23\n",
      "3               Sába-Ház                0  2016                63\n",
      "4   Szieszta Apartmanház                0  2016                28\n",
      "5            Családi Ház                0  2017                 5\n",
      "6       Fortuna Apartman                0  2017                 4\n",
      "7    Partiszél Vendégház                0  2017                 3\n",
      "8               Sába-Ház                0  2017                 7\n",
      "9   Szieszta Apartmanház                0  2017                 6\n",
      "10        Fortuna panzió                3  2016               104\n",
      "11            Gold Hotel                3  2016               152\n",
      "12           Jáde panzió                3  2016                24\n",
      "13         Kentaur Hotel                3  2016               150\n",
      "14        Fortuna panzió                3  2017                22\n",
      "15            Gold Hotel                3  2017                27\n",
      "16           Jáde panzió                3  2017                 5\n",
      "17         Kentaur Hotel                3  2017                29\n",
      "18    Hotel Három Hattyú                4  2016               157\n",
      "19          Lagúna Hotel                4  2016               103\n",
      "20    Hotel Három Hattyú                4  2017                47\n",
      "21          Lagúna Hotel                4  2017                20\n"
     ]
    }
   ],
   "source": [
    "# 04. Készítsünk listát arról, hogy hányszor foglaltak szállást évente a különböző csillaggal minősített szállásokon?\n",
    "# Jelenjenek meg: a csillagok_száma, a szálláshely neve, az év, és \"Foglalások száma\"\n",
    "# A lista ne tartalmazzon duplikált sorokat!\n",
    "\n",
    "df_query = pd.read_sql_query('''select distinct Szallashely.szallas_nev ,szallashely.csillagok_Szama, YEAR(Foglalas.METTOL) Év, \n",
    "count(*) over(partition by Szallashely.szallas_nev, year(Foglalas.mettol), szallashely.csillagok_Szama )'Foglalások száma' \n",
    "from Szallashely join szoba on Szallashely.szallas_id = Szoba.szallas_fk \n",
    "\t\t\t\t\t\tjoin Foglalas on szoba.szoba_id = foglalas.SZOBA_FK\n",
    "\t\t\t\t\t\tjoin vendeg on foglalas.ugyfel_fk = vendeg.usernev\n",
    "\t\t\t\t\t\tOrder by szallashely.csillagok_Szama, Év;''' , engine)\n",
    "print(df_query)"
   ]
  },
  {
   "cell_type": "code",
   "execution_count": 10,
   "metadata": {},
   "outputs": [
    {
     "name": "stdout",
     "output_type": "stream",
     "text": [
      "    groupID           Szálláshely neve Csillagok száma  Foglalások száma\n",
      "0         0        Partiszél Vendégház               0                 3\n",
      "1         0           Fortuna Apartman               0                 4\n",
      "2         0                Családi Ház               0                 5\n",
      "3         0                Jáde panzió               3                 5\n",
      "4         0       Szieszta Apartmanház               0                 6\n",
      "5         0                   Sába-Ház               0                 7\n",
      "6         0                Családi Ház               0                13\n",
      "7         0               Lagúna Hotel               4                20\n",
      "8         0             Fortuna panzió               3                22\n",
      "9         0        Partiszél Vendégház               0                23\n",
      "10        0                Jáde panzió               3                24\n",
      "11        4   Szálláshelyek * szerint     0 csillagos                 25\n",
      "12        0                 Gold Hotel               3                27\n",
      "13        0       Szieszta Apartmanház               0                28\n",
      "14        0              Kentaur Hotel               3                29\n",
      "15        0           Fortuna Apartman               0                35\n",
      "16        0         Hotel Három Hattyú               4                47\n",
      "17        0                   Sába-Ház               0                63\n",
      "18        4   Szálláshelyek * szerint     4 csillagos                 67\n",
      "19        4   Szálláshelyek * szerint     3 csillagos                 83\n",
      "20        0               Lagúna Hotel               4               103\n",
      "21        0             Fortuna panzió               3               104\n",
      "22        0              Kentaur Hotel               3               150\n",
      "23        0                 Gold Hotel               3               152\n",
      "24        0         Hotel Három Hattyú               4               157\n",
      "25        4   Szálláshelyek * szerint     0 csillagos                162\n",
      "26        6  Szálláshelyek év szerint      2017 összes               175\n",
      "27        4   Szálláshelyek * szerint     4 csillagos                260\n",
      "28        4   Szálláshelyek * szerint     3 csillagos                430\n",
      "29        6  Szálláshelyek év szerint      2016 összes               852\n",
      "30        7           ** VÉGÖSSZEG **                               1027\n"
     ]
    }
   ],
   "source": [
    "#05. Oldjuk mega feladatot úgy, hogy Év szerint jelenjenek meg a részösszegek, és a végösszeg is\n",
    "df_query = pd.read_sql_query('''SELECT GROUPING_ID(szallashely.szallas_nev, szallashely.csillagok_szama,yEAR(foglalas.mettol)) AS 'groupID',\n",
    "\t\t (case grouping_id(szallashely.szallas_nev, szallashely.csillagok_szama,yEAR(foglalas.mettol)) \n",
    "\t\t\t\t\twhen 0 then  szallashely.szallas_nev\n",
    "\t\t\t\t\twhen 4 then 'Szálláshelyek * szerint ' \n",
    "\t\t\t\t\twhen 6 then 'Szálláshelyek év szerint ' \n",
    "\t\t\t\t\twhen 7 then ' ** VÉGÖSSZEG ** ' \n",
    "\t\t\t\t\tELSE CAST(szallashely.szallas_nev AS NVARCHAR(15))\n",
    "\t\t\t\t\tEND \n",
    "\t\t\t) as 'Szálláshely neve',\n",
    "\t\t(case grouping_id(szallashely.szallas_nev, szallashely.csillagok_szama,yEAR(foglalas.mettol)) \n",
    "\t\t\t\t\twhen 0 then CAST(szallashely.csillagok_szama AS NVARCHAR(1)) \n",
    "\t\t\t\t\twhen 4 then CAST(szallashely.csillagok_szama AS NVARCHAR(1))  + ' csillagos '\n",
    "\t\t\t\t\twhen 6 then CAST(YEAR(foglalas.mettol) AS NVARCHAR) + ' összes' \n",
    "\t\t\t\t\twhen 7 then ' ' \n",
    "\t\t\t\t\tELSE CAST(szallashely.csillagok_szama AS NVARCHAR(1))\n",
    "\t\t\t\t\tEND ) as 'Csillagok száma',\n",
    "\t\tCOUNT(*) AS 'Foglalások száma' \n",
    "\tFROM Szallashely \n",
    "\tJOIN Szoba ON Szallashely.szallas_id = Szoba.szallas_fk \n",
    "\tJOIN Foglalas ON Szoba.szoba_id = Foglalas.SZOBA_FK\n",
    "\tGROUP BY GROUPING SETS (\n",
    "\t\t(szallashely.csillagok_szama, szallashely.szallas_nev, YEAR(foglalas.mettol)),\n",
    "\t\t(szallashely.csillagok_szama, YEAR(foglalas.mettol)), \n",
    "\t\t(YEAR(foglalas.mettol)), \n",
    "\t\t())\n",
    "\t\tORDER BY 'Foglalások száma', /*Év, */ szallashely.csillagok_szama;''' , engine)\n",
    "print(df_query)"
   ]
  },
  {
   "cell_type": "code",
   "execution_count": 11,
   "metadata": {},
   "outputs": [
    {
     "name": "stdout",
     "output_type": "stream",
     "text": [
      "   csillagok_Szama  Szálláshelyek száma\n",
      "0                0                  187\n",
      "1                4                  327\n",
      "2                3                  513\n"
     ]
    }
   ],
   "source": [
    "# 06.Készítsünk lekérdezést, amely megmutatja, hogy hány db szálláshely tartozik \n",
    "# az 0, 3, 4  csillagos szálláshelyek közé?\n",
    "# A lista a csillaggal jelölt kategória nevét és a darabszámot jelenítse meg, valamint ne tartalmazzon duplikált sorokat. \n",
    "\n",
    "df_query = pd.read_sql_query('''select distinct szallashely.csillagok_Szama, \n",
    "\tcount(SZALLAS_ID) over(partition by szallashely.csillagok_Szama order by szallashely.csillagok_Szama) as 'Szálláshelyek száma'\n",
    "\tfrom Szallashely join szoba on Szallashely.szallas_id = Szoba.szallas_fk \n",
    "\t\t\t\t\t\tjoin Foglalas on szoba.szoba_id = foglalas.SZOBA_FK\n",
    "\t\t\t\t\t\tjoin vendeg on foglalas.ugyfel_fk = vendeg.usernev\n",
    "\t\t\t\t\t\torder by 'Szálláshelyek száma';''' , engine)\n",
    "print(df_query)"
   ]
  },
  {
   "cell_type": "code",
   "execution_count": 12,
   "metadata": {},
   "outputs": [
    {
     "name": "stdout",
     "output_type": "stream",
     "text": [
      "         tipus       SZALLAS_NEV                 nev  minTartózkodás\n",
      "0     Apartman  Fortuna Apartman    Nagymihály Lajos               1\n",
      "1     Apartman  Fortuna Apartman         Kiss Andrea               1\n",
      "2     Apartman  Fortuna Apartman         Móra László               1\n",
      "3     Apartman  Fortuna Apartman        Szűcs Balázs               1\n",
      "4     Apartman  Fortuna Apartman     Harangozó János               1\n",
      "..         ...               ...                 ...             ...\n",
      "145  vendégház          Sába-Ház         Vígh András               1\n",
      "146  vendégház          Sába-Ház  Foltényi Sebastián               1\n",
      "147  vendégház       Családi Ház          Bagi Beáta               1\n",
      "148  vendégház          Sába-Ház         Farkas Sára               1\n",
      "149  vendégház       Családi Ház     Tatár Nikoletta               1\n",
      "\n",
      "[150 rows x 4 columns]\n"
     ]
    }
   ],
   "source": [
    "# 07 Listázzuk ki azon vendégek nevét akik a legkevesebb ideig maradtak az egyes szálláshelyeken!\n",
    "# A lekérdezésben szerepeljen a szállás neve, típusa, Tartózkodás ideje.\n",
    "\n",
    "df_query = pd.read_sql_query('''select szallashely.tipus, Szallashely.SZALLAS_NEV, vendeg.nev,  DATEDIFF(DAY, foglalas.mettol, foglalas.meddig) AS minTartózkodás\n",
    "\t\tfrom Szallashely join szoba on Szallashely.szallas_id = Szoba.szallas_fk \n",
    "\t\t\t\t\t\tjoin Foglalas on szoba.szoba_id = foglalas.SZOBA_FK\n",
    "\t\t\t\t\t\tjoin vendeg on foglalas.ugyfel_fk = vendeg.usernev\n",
    "\t\t\t\t\t\twhere DATEDIFF(DAY, foglalas.mettol, foglalas.meddig) = \n",
    "\t\t\t\t\t\t\t\t\t\t\t\t\t\t\t\t\t\t\t\t(select min(DATEDIFF(DAY, foglalas.mettol, foglalas.meddig)) \n",
    "\t\t\t\t\t\t\t\t\t\t\t\t\t\tfrom Szallashely join szoba on Szallashely.szallas_id = Szoba.szallas_fk \n",
    "\t\t\t\t\t\t\t\t\t\t\t\t\t\t\t\t\t\t\t\tjoin Foglalas on szoba.szoba_id = foglalas.SZOBA_FK\n",
    "\t\t\t\t\t\t\t\t\t\t\t\t\t\t\t\t\t\t\t\tjoin vendeg on foglalas.ugyfel_fk = vendeg.usernev /**/) \n",
    "\t\t\t\t\t\t\t\t\t\t\t\t\t\t\t\t\t\t\t\t order by szallashely.tipus, minTartózkodás;''' , engine)\n",
    "print(df_query)"
   ]
  },
  {
   "cell_type": "code",
   "execution_count": 13,
   "metadata": {},
   "outputs": [
    {
     "name": "stdout",
     "output_type": "stream",
     "text": [
      "    groupID Szálláshely/Szoba típusa/Hónap  Szállásfoglalók száma\n",
      "0         1           Szieszta Apartmanház                     83\n",
      "1         1                 Fortuna Panzió                    311\n",
      "2         1                  Kentaur Hotel                    420\n",
      "3         1            Partiszél Vendégház                     63\n",
      "4         1                       Sába-Ház                    166\n",
      "5         1                    Családi Ház                     52\n",
      "6         1               Fortuna Apartman                    106\n",
      "7         1             Hotel Három Hattyú                    504\n",
      "8         1                    Jáde panzió                     66\n",
      "9         1                   Lagúna Hotel                    291\n",
      "10        1                     Gold Hotel                    428\n",
      "11        2                              9                    190\n",
      "12        2                              3                     12\n",
      "13        2                             12                    174\n",
      "14        2                              6                    269\n",
      "15        2                              7                    266\n",
      "16        2                              1                    180\n",
      "17        2                             10                    337\n",
      "18        2                              4                    125\n",
      "19        2                              5                    195\n",
      "20        2                              2                    241\n",
      "21        2                             11                    248\n",
      "22        2                              8                    253\n",
      "23        3                       * Klímás                    730\n",
      "24        3            * Pótágyas + Klímás                    863\n",
      "25        3            * Pótágyas + Klímás                    245\n",
      "26        3                        * Semmi                    356\n",
      "27        3                     * Pótágyas                    193\n",
      "28        3                     * Pótágyas                    103\n",
      "29        3              *** Végösszeg ***                   2490\n"
     ]
    }
   ],
   "source": [
    "# 08 Hányan foglaltak szállást (felnőtt + gyerek) \n",
    "# - havi bontásban az egyes szálláshelyeken, \n",
    "# külön csoportosítva:\n",
    "# - a pótágyas \n",
    "# - a klímás \n",
    "# - a semmi\n",
    "# - és a pótágyas+ klímás szobákra nézve?\n",
    "# Részösszegek és végösszegeket is tünessünk fel.\n",
    "\n",
    "df_query = pd.read_sql_query(''' SELECT grouping_id(szallashely.SZALLAS_NEV, MONTH(foglalas.mettol)) AS 'groupID',\n",
    "    CASE \n",
    "\t\twhen grouping_id(szallashely.SZALLAS_NEV, MONTH(foglalas.mettol))= 1  then szallashely.szallas_nev\n",
    "\t\twhen grouping_id(szallashely.SZALLAS_NEV, MONTH(foglalas.mettol))= 2  then CAST(MONTH(foglalas.mettol) AS NVARCHAR)\n",
    "\t\twhen grouping_id(szallashely.SZALLAS_NEV, MONTH(foglalas.mettol))= 3  then \n",
    "\t\tcase \n",
    "\t\t\tWHEN szoba.KLIMAS  = 'i' AND szoba.potagy > 0 THEN '* Pótágyas + Klímás'\n",
    "\t\t\tWHEN szoba.potagy > 0 and szoba.KLIMAS= 'n' THEN '* Pótágyas'\n",
    "\t\t\tWHEN szoba.potagy = 0 and szoba.KLIMAS = 'i' THEN '* Klímás'\n",
    "\t\t\tWHEN szoba.KLIMAS  = 'n' AND szoba.potagy = 0 THEN '* Semmi'\n",
    "\t\t\tElse '*** Végösszeg ***'\n",
    "\t\tend \n",
    "    END AS 'Szálláshely/Szoba típusa/Hónap',\n",
    "    SUM(Foglalas.FELNOTT_SZAM + Foglalas.GYERMEK_SZAM) AS 'Szállásfoglalók száma'\n",
    "FROM Szallashely \n",
    "JOIN Szoba ON Szallashely.szallas_id = Szoba.szallas_fk \n",
    "JOIN Foglalas ON Szoba.szoba_id = foglalas.SZOBA_FK \n",
    "JOIN Vendeg ON foglalas.ugyfel_fk = vendeg.usernev\n",
    "GROUP BY GROUPING SETS (\n",
    "    (szallashely.SZALLAS_NEV), \n",
    "    (MONTH(foglalas.mettol)), \n",
    "    (szoba.KLIMAS, szoba.potagy),\n",
    "    ())  ORDER BY 'groupID';''' , engine)\n",
    "print(df_query)"
   ]
  },
  {
   "cell_type": "code",
   "execution_count": 14,
   "metadata": {},
   "outputs": [
    {
     "name": "stdout",
     "output_type": "stream",
     "text": [
      "            szallas_nev  Pótágyas foglalások száma\n",
      "0           Családi Ház                          8\n",
      "1      Fortuna Apartman                         13\n",
      "2        Fortuna panzió                         24\n",
      "3            Gold Hotel                         31\n",
      "4    Hotel Három Hattyú                         54\n",
      "5         Kentaur Hotel                         43\n",
      "6          Lagúna Hotel                         30\n",
      "7   Partiszél Vendégház                          5\n",
      "8              Sába-Ház                         15\n",
      "9  Szieszta Apartmanház                          3\n"
     ]
    }
   ],
   "source": [
    "# 09 Hány olyan foglalás történt, ahol csak úgy fértek el a vendégek, hogy pótágyat kellett volna használni (és volt is)?\n",
    "# Tüntessük fel ezen szállások nevét!\n",
    "\n",
    "df_query = pd.read_sql_query('''select szallashely.szallas_nev, count(foglalas.FOGLALAS_PK) AS 'Pótágyas foglalások száma'\n",
    "from szallashely join szoba on szallas_id = szallas_fk join Foglalas on SZOBA_id = SZOBA_FK\n",
    "where Szoba.FEROHELY < (foglalas.FELNOTT_SZAM+foglalas.gyermek_szam) and szoba.POTAGY > 0\n",
    "group by szallashely.szallas_nev order by SZALLAS_NEV;''' , engine)\n",
    "print(df_query)\n"
   ]
  },
  {
   "cell_type": "code",
   "execution_count": 15,
   "metadata": {},
   "outputs": [
    {
     "name": "stdout",
     "output_type": "stream",
     "text": [
      "  Vendég csoport  Vendégek száma\n",
      "0            sok              12\n",
      "1        átlagos             454\n",
      "2          kevés             561\n",
      "3      Végösszeg            1027\n"
     ]
    }
   ],
   "source": [
    "# 10. Készítsünk csoportokat a foglalást leadott vendég száma alapján ( felnőtt+gyerek): \n",
    "#  - A 3 v. annál kevesebb foglalók számának értéke legyen: \"kevés\" \n",
    "#  - A 4-5 közötti \"átlagos\", \n",
    "#  - Az 5 feletti legyen a \"sok\"\n",
    "# Listázzuk az egyes csoportokat, és a csoportokba tartozó vendégek számát végösszeggel együtt! \n",
    "\n",
    "df_query = pd.read_sql_query('''SELECT IIF(  \n",
    "\tGROUPING_id(CASE \n",
    "\t\t\t\tWHEN (felnott_szam + gyermek_szam) <= 2 THEN 'kevés'\n",
    "\t\t\t\tWHEN (felnott_szam + gyermek_szam) BETWEEN 3 AND 4 THEN 'átlagos'\n",
    "\t\t\t\tELSE 'sok' END)=1, 'Végösszeg', CAST(\n",
    "\t\t\t\t\t\t\t\t\t\t\t\t\t (CASE \n",
    "\t\t\t\t\t\t\t\t\t\t\t\t\t\tWHEN (felnott_szam + gyermek_szam) <= 2 THEN 'kevés'\n",
    "\t\t\t\t\t\t\t\t\t\t\t\t\t\tWHEN (felnott_szam + gyermek_szam) BETWEEN 3 AND 4 THEN 'átlagos'\n",
    "\t\t\t\t\t\t\t\t\t\t\t\t\t\tELSE 'sok'\n",
    "\t\t\t\t\t\t\t\t\t\t\t\t\tEND) AS nvarchar(10))  ) AS 'Vendég csoport',\n",
    "    COUNT(*) AS 'Vendégek száma'\n",
    "FROM foglalas\n",
    "GROUP BY GROUPING SETS (\n",
    "    (CASE \n",
    "        WHEN (felnott_szam + gyermek_szam) <= 2 THEN 'kevés'\n",
    "        WHEN (felnott_szam + gyermek_szam) BETWEEN 3 AND 4 THEN 'átlagos'\n",
    "        ELSE 'sok' END),())\n",
    "\tORDER BY 'Vendégek száma';''' , engine)\n",
    "print(df_query)"
   ]
  },
  {
   "cell_type": "code",
   "execution_count": 16,
   "metadata": {},
   "outputs": [
    {
     "name": "stdout",
     "output_type": "stream",
     "text": [
      "    Vendég neve Előző vendég Következő vendég\n",
      "0         adam1        Nincs            adam3\n",
      "1         adam3        adam1            adam4\n",
      "2         adam4        adam3            agnes\n",
      "3         agnes        adam4           agnes3\n",
      "4        agnes3        agnes           AGNESH\n",
      "..          ...          ...              ...\n",
      "191      ZSOLTJ       zsolt1           zsuzsa\n",
      "192      zsuzsa       ZSOLTJ          zsuzsa3\n",
      "193     zsuzsa3       zsuzsa        zsuzsanna\n",
      "194   zsuzsanna      zsuzsa3          ZSUZSAV\n",
      "195     ZSUZSAV    zsuzsanna            Nincs\n",
      "\n",
      "[196 rows x 3 columns]\n"
     ]
    }
   ],
   "source": [
    "# 11. Készítsünk listát az vendégek adatairól név szerinti sorrendben. \n",
    "#  Minden sorban jelenjen meg a sorrend szerint előző, illetve következő vendég neve is.\n",
    "#  Ha nincs előző vagy következő vendég, akkor a 'Nincs' jelenjen meg!\n",
    "\n",
    "df_query = pd.read_sql_query('''SELECT \n",
    "    usernev AS 'Vendég neve',\n",
    "    ISNULL(LAG(usernev) OVER (ORDER BY usernev), 'Nincs') AS 'Előző vendég',\n",
    "    ISNULL(LEAD(usernev) OVER (ORDER BY usernev), 'Nincs') AS 'Következő vendég'\n",
    "FROM vendeg\n",
    "ORDER BY usernev;''' , engine)\n",
    "print(df_query)"
   ]
  },
  {
   "cell_type": "code",
   "execution_count": 18,
   "metadata": {},
   "outputs": [
    {
     "name": "stdout",
     "output_type": "stream",
     "text": [
      "    GroupingID                       Hónap  Vendégszám\n",
      "0            2      March hónap foglalásai           5\n",
      "1            2      April hónap foglalásai          53\n",
      "2            2  September hónap foglalásai          76\n",
      "3            2   December hónap foglalásai          76\n",
      "4            2    January hónap foglalásai          77\n",
      "5            2        May hónap foglalásai          88\n",
      "6            2   February hónap foglalásai          93\n",
      "7            2     August hónap foglalásai          99\n",
      "8            2   November hónap foglalásai         100\n",
      "9            2       June hónap foglalásai         110\n",
      "10           2       July hónap foglalásai         113\n",
      "11           2    October hónap foglalásai         137\n",
      "12           1          2017 évre összesen         175\n",
      "13           1          2016 évre összesen         852\n",
      "14           3                 Grand Total        1027\n"
     ]
    }
   ],
   "source": [
    "# 12.Készítsünk listát a vendégek számáról a foglalás éve, azon belül hónapja szerint csoportosítva.\n",
    "# \tA lista tartalmazza a részösszegeket és a végösszegeket is.\tNevezzük el az oszlopokat.\n",
    "\n",
    "df_query = pd.read_sql_query('''SELECT \n",
    "\t\t\tGROUPING_ID(YEAR(foglalas.mettol), MONTH(foglalas.mettol)) AS 'GroupingID',\n",
    "\t\tCASE \n",
    "\t\t\tGROUPING_ID(YEAR(foglalas.mettol), MONTH(foglalas.mettol))\n",
    "\t\t\t\tWHEN 0 THEN CAST(MONTH(foglalas.mettol) AS nvarchar(4))\n",
    "\t\t\t\tWHEN 1 THEN CONCAT( YEAR(foglalas.mettol), ' évre összesen') \n",
    "\t\t\t\twhen 2 then DATENAME(MONTH, DATEADD(MONTH, month(foglalas.mettol) - 1, '2000-01-01')) + ' hónap foglalásai'\n",
    "\t\t\t\tWHEN 3 THEN 'Grand Total'\n",
    "\t\t\tEND AS 'Hónap', \n",
    "\t\t\tCOUNT(*) AS 'Vendégszám' \n",
    "\t\tFROM Foglalas \n",
    "\t\tJOIN vendeg ON foglalas.ugyfel_fk = vendeg.usernev \n",
    "\t\tGROUP BY CUBE(YEAR(foglalas.mettol), MONTH(foglalas.mettol)) \n",
    "\t\tHAVING GROUPING_ID(YEAR(foglalas.mettol), MONTH(foglalas.mettol)) >= 1\n",
    "\t\tORDER BY COUNT(*);''' , engine)\n",
    "print(df_query)\n"
   ]
  },
  {
   "cell_type": "code",
   "execution_count": 17,
   "metadata": {},
   "outputs": [
    {
     "name": "stdout",
     "output_type": "stream",
     "text": [
      "              Év            Hó  DB\n",
      "0           2017             1   2\n",
      "1           2017  Havi részlet   2\n",
      "2           2016             4   2\n",
      "3           2016             6   1\n",
      "4           2016            10   1\n",
      "5           2016  Havi részlet   4\n",
      "6  Összdarabszám  Havi részlet   6\n"
     ]
    }
   ],
   "source": [
    "# 13. Készítsünk listát 'AGNESH' nevű felhasználóNK összes foglalásának számáról éves, azon belül havi bontásban! \n",
    "# \t\t\ta. A lista megfelelően jelölve tartalmazza a rész- és összdarabszámot is!\n",
    "# \t\t\tb. Az oszlopokat nevezzük el értelemszerűen! És rendezzük a foglalás ideje alapján csökkenő sorrendbe.\n",
    "\n",
    "df_query = pd.read_sql_query('''select IIF(Grouping_ID(year(foglalas.mettol))=1,'Összdarabszám', cast(year(foglalas.mettol) as nvarchar(5))) 'Év', \n",
    "\tIIF(Grouping_ID(month(foglalas.mettol))=1,'Havi részlet', cast(month(foglalas.mettol) as nvarchar(5))) 'Hó',\n",
    "\tcount(foglalas.foglalas_pk) 'DB' \n",
    "\tfrom vendeg join Foglalas on foglalas.ugyfel_fk = vendeg.usernev where ugyfel_fk = 'AGNESH' \n",
    "\tgroup by rollup(year(foglalas.mettol), month(foglalas.mettol)) order by year(foglalas.mettol) Desc;''' , engine)\n",
    "print(df_query)"
   ]
  },
  {
   "cell_type": "code",
   "execution_count": 22,
   "metadata": {},
   "outputs": [
    {
     "name": "stdout",
     "output_type": "stream",
     "text": [
      "           Év          Hó    DB\n",
      "0        2017           3     5\n",
      "1        2016           4    53\n",
      "2        2016           9    76\n",
      "3        2016          12    76\n",
      "4        2017           1    77\n",
      "5        2016           5    88\n",
      "6        2017           2    93\n",
      "7        2016           8    99\n",
      "8        2016          11   100\n",
      "9        2016           6   110\n",
      "10       2016           7   113\n",
      "11       2016          10   137\n",
      "12       2017  részDBszám   175\n",
      "13       2016  részDBszám   852\n",
      "14  végDBszám  részDBszám  1027\n"
     ]
    }
   ],
   "source": [
    "# 14. listázzuk az összes vendég foglalásának számát év, majd azon belül hó szerint. Rendezzük DB szerint növekvő sorrendbe \n",
    "\n",
    "df_query = pd.read_sql_query('''select IIF(Grouping_ID(year(foglalas.mettol))=1,'végDBszám', cast(year(foglalas.mettol) as nvarchar(5))) 'Év',\n",
    "\t\t   IIF(Grouping_ID(month(foglalas.mettol))=1,'részDBszám', cast(month(foglalas.mettol) as nvarchar(5))) 'Hó',\n",
    "\tcount(foglalas.foglalas_pk) DB\n",
    "\tfrom vendeg join Foglalas on foglalas.ugyfel_fk = vendeg.usernev  group by rollup(year(foglalas.mettol), month(foglalas.mettol)) order by DB;''' , engine)\n",
    "print(df_query)"
   ]
  },
  {
   "cell_type": "code",
   "execution_count": 21,
   "metadata": {},
   "outputs": [
    {
     "name": "stdout",
     "output_type": "stream",
     "text": [
      "       Szállástípus Csillagok száma  Foglalások száma\n",
      "0          Apartman               0                73\n",
      "1         vendégház               0               114\n",
      "2            panzió               3               155\n",
      "3  * Részfoglalás *               0               187\n",
      "4             Hotel               4               327\n",
      "5  * Részfoglalás *               4               327\n",
      "6             Hotel               3               358\n",
      "7  * Részfoglalás *               3               513\n",
      "8         Végösszeg              -               1027\n"
     ]
    }
   ],
   "source": [
    "# 15. Szállástípusonként és csillagok száma szerint hány db foglalás történt + összfoglalások száma is! Foglalások száma szerint rendezzük növekvő sorrendbe \n",
    "\n",
    "df_query = pd.read_sql_query('''SELECT \n",
    "    CASE \n",
    "        WHEN GROUPING(szallashely.TIPUS) = 1 AND GROUPING(szallashely.csillagok_szama) = 0 THEN '* Részfoglalás *'\n",
    "        WHEN GROUPING(szallashely.TIPUS) = 1 AND GROUPING(szallashely.csillagok_szama) = 1 THEN 'Végösszeg'\n",
    "        ELSE szallashely.TIPUS \n",
    "    END AS 'Szállástípus',\n",
    "    CASE \n",
    "        WHEN GROUPING(szallashely.csillagok_szama) = 1 THEN ' - '\n",
    "        ELSE CAST(szallashely.csillagok_szama AS VARCHAR)\n",
    "    END AS 'Csillagok száma',\n",
    "    COUNT(foglalas.foglalas_pk) AS 'Foglalások száma'\n",
    "FROM Szallashely JOIN szoba ON Szallashely.szallas_id = Szoba.szallas_fk JOIN Foglalas ON szoba.szoba_id = foglalas.SZOBA_FK \n",
    "GROUP BY GROUPING SETS ((szallashely.TIPUS, csillagok_szama),(szallashely.csillagok_szama),()) \n",
    "ORDER BY count(foglalas.foglalas_pk);''' , engine)\n",
    "print(df_query)"
   ]
  },
  {
   "cell_type": "code",
   "execution_count": 20,
   "metadata": {},
   "outputs": [
    {
     "name": "stdout",
     "output_type": "stream",
     "text": [
      "             szallas_nev klimas  ferohely       tipus  Szálláshelyosztályok\n",
      "0           Bagoly Hotel      n         1       Hotel                     1\n",
      "1           Bagoly Hotel      n         2       Hotel                     1\n",
      "2           Bagoly Hotel      n         3       Hotel                     4\n",
      "3       Fortuna Apartman      n         2    Apartman                     1\n",
      "4       Fortuna Apartman      n         3    Apartman                     2\n",
      "5       Fortuna Apartman      n         3    Apartman                     3\n",
      "6       Fortuna Apartman      n         3    Apartman                     4\n",
      "7         Fortuna Panzió      n         2      panzió                     1\n",
      "8         Fortuna panzió      n         2      panzió                     2\n",
      "9         Fortuna Panzió      n         3      panzió                     3\n",
      "10            Gold Hotel      n         2       Hotel                     1\n",
      "11            Gold Hotel      n         2       Hotel                     2\n",
      "12            Gold Hotel      n         3       Hotel                     4\n",
      "13    Hotel Három Hattyú      n         2       Hotel                     2\n",
      "14    Hotel Három Hattyú      n         2       Hotel                     3\n",
      "15    Hotel Három Hattyú      n         3       Hotel                     3\n",
      "16           Jáde panzió      n         2      panzió                     2\n",
      "17           Jáde panzió      n         3      panzió                     3\n",
      "18         Kentaur Hotel      n         2       Hotel                     1\n",
      "19         Kentaur Hotel      n         2       Hotel                     2\n",
      "20         Kentaur Hotel      n         3       Hotel                     3\n",
      "21         Kentaur Hotel      n         3       Hotel                     4\n",
      "22             Kollégium      n         3  Diákszálló                     1\n",
      "23          Lagúna Hotel      n         2       Hotel                     1\n",
      "24          Lagúna Hotel      n         2       Hotel                     3\n",
      "25          Lagúna Hotel      n         3       Hotel                     3\n",
      "26          Lagúna Hotel      n         3       Hotel                     4\n",
      "27     Nyárfás Vendégház      n         2   vendégház                     1\n",
      "28   Partiszél Vendégház      n         3   vendégház                     2\n",
      "29        Riviéra Panzió      n         2      panzió                     1\n",
      "30        Riviéra Panzió      n         2      panzió                     2\n",
      "31        Riviéra Panzió      n         3      panzió                     4\n",
      "32              Sába-Ház      n         3   vendégház                     3\n",
      "33              Sába-Ház      n         3   vendégház                     4\n",
      "34         Szarvas Hotel      n         2       Hotel                     1\n",
      "35         Szarvas Hotel      n         3       Hotel                     4\n",
      "36  Szieszta Apartmanház      n         2    Apartman                     1\n",
      "37  Szieszta Apartmanház      n         3    Apartman                     2\n",
      "38       Tímárház Panzió      n         2      panzió                     1\n",
      "39       Tímárház Panzió      n         3      panzió                     4\n"
     ]
    }
   ],
   "source": [
    "# 16. Osztályozzuk a szálláshelyeket 4 típusba és rendezzük őket férőhely szerint növekvő sorrende, de csak azokat ahol nincs klíma:\n",
    "\n",
    "df_query = pd.read_sql_query('''select distinct szallas_nev, klimas, ferohely, tipus, NTILE(4) over(partition by tipus order by szoba.ferohely) 'Szálláshelyosztályok' \n",
    "\tfrom szoba join szallashely on szallas_id = szallas_fk where klimas = 'n';''' , engine)\n",
    "print(df_query)"
   ]
  },
  {
   "cell_type": "code",
   "execution_count": 19,
   "metadata": {},
   "outputs": [
    {
     "name": "stdout",
     "output_type": "stream",
     "text": [
      "            szallas_nev      tipus  Vendégek száma szállásonként  \\\n",
      "0      Fortuna Apartman   Apartman                            31   \n",
      "1  Szieszta Apartmanház   Apartman                             9   \n",
      "2            Gold Hotel      Hotel                            79   \n",
      "3    Hotel Három Hattyú      Hotel                           119   \n",
      "4         Kentaur Hotel      Hotel                            99   \n",
      "5          Lagúna Hotel      Hotel                            72   \n",
      "6        Fortuna panzió     panzió                            56   \n",
      "7           Családi Ház  vendégház                            14   \n",
      "8   Partiszél Vendégház  vendégház                            11   \n",
      "9              Sába-Ház  vendégház                            37   \n",
      "\n",
      "   Vendégek száma típusonként  \n",
      "0                          40  \n",
      "1                          40  \n",
      "2                         369  \n",
      "3                         369  \n",
      "4                         369  \n",
      "5                         369  \n",
      "6                          56  \n",
      "7                          62  \n",
      "8                          62  \n",
      "9                          62  \n"
     ]
    }
   ],
   "source": [
    "# 17. A szálláshelyenként és szállástípusonként számoljuk össze kik voltak azok a vendégek akik pótágyas szobában szálltak meg?\n",
    "\n",
    "df_query = pd.read_sql_query('''select distinct szallashely.szallas_nev, szallashely.tipus ,\n",
    "\tcount(vendeg.usernev) over (partition by szallashely.szallas_nev ) 'Vendégek száma szállásonként' ,\n",
    "\tcount(vendeg.usernev) over (partition by szallashely.tipus ) 'Vendégek száma típusonként'\n",
    "\tfrom Szallashely join szoba on Szallashely.szallas_id = Szoba.szallas_fk \n",
    "\tjoin Foglalas on szoba.szoba_id = foglalas.SZOBA_FK\n",
    "\tjoin vendeg on foglalas.ugyfel_fk = vendeg.usernev where szoba.potagy > 0 \n",
    "\torder by szallashely.tipus, szallashely.szallas_nev;''' , engine)\n",
    "print(df_query)"
   ]
  }
 ],
 "metadata": {
  "kernelspec": {
   "display_name": "Python 3",
   "language": "python",
   "name": "python3"
  },
  "language_info": {
   "codemirror_mode": {
    "name": "ipython",
    "version": 3
   },
   "file_extension": ".py",
   "mimetype": "text/x-python",
   "name": "python",
   "nbconvert_exporter": "python",
   "pygments_lexer": "ipython3",
   "version": "3.9.11"
  }
 },
 "nbformat": 4,
 "nbformat_minor": 2
}
